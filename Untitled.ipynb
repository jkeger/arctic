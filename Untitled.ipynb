{
 "cells": [
  {
   "cell_type": "code",
   "execution_count": 1,
   "id": "f79b5c34",
   "metadata": {},
   "outputs": [],
   "source": [
    "import arcticpy as arctic\n",
    "import autoarray as aa\n",
    "import time\n",
    "\n",
    "image_path = \"/Users/rjm/GitHub/testdata/je0o30lzq\"\n",
    "\n",
    "# Load each quadrant of the image  (see pypi.org/project/autoarray)\n",
    "image_A_raw, image_B_raw, image_C_raw, image_D_raw = [\n",
    "    aa.acs.ImageACS.from_fits(\n",
    "        file_path=image_path + \"_raw.fits\",\n",
    "        quadrant_letter=quadrant,\n",
    "        bias_subtract_via_bias_file=True,\n",
    "        bias_subtract_via_prescan=True,\n",
    "    ).native\n",
    "    for quadrant in [\"A\", \"B\", \"C\", \"D\"]\n",
    "]\n",
    "image_A_corrected, image_B_corrected, image_C_corrected, image_D_corrected = [\n",
    "    aa.acs.ImageACS.from_fits(\n",
    "        file_path=image_path + \"_out.fits\",\n",
    "        quadrant_letter=quadrant,\n",
    "        bias_subtract_via_bias_file=True,\n",
    "        bias_subtract_via_prescan=True,\n",
    "    ).native\n",
    "    for quadrant in [\"A\", \"B\", \"C\", \"D\"]\n",
    "]\n",
    "\n",
    "# Automatic CTI model  (see CTI_model_for_HST_ACS() in arcticpy/src/cti.py)\n",
    "date = 2400000.5 + image_A_raw.header.modified_julian_date\n",
    "parallel_roe, parallel_ccd, parallel_traps, serial_roe, serial_ccd, serial_traps = arctic.CTI_model_for_HST_ACS(date)\n",
    "\n",
    "   "
   ]
  },
  {
   "cell_type": "code",
   "execution_count": 2,
   "id": "59110492",
   "metadata": {},
   "outputs": [
    {
     "name": "stdout",
     "output_type": "stream",
     "text": [
      "0.0 4.0\n"
     ]
    }
   ],
   "source": [
    "print(parallel_roe.read_noise,serial_roe.read_noise)"
   ]
  },
  {
   "cell_type": "code",
   "execution_count": 3,
   "id": "1cfe5a9d",
   "metadata": {},
   "outputs": [],
   "source": [
    "image_A_add = arctic.add_cti(image_A_raw,\n",
    "    parallel_ccd=parallel_ccd,\n",
    "    parallel_roe=parallel_roe,\n",
    "    parallel_traps=parallel_traps,\n",
    "    parallel_express=4,\n",
    "    #read_noise=arctic.ReadNoise(sigma_readnoise=4.0),\n",
    "    serial_ccd=serial_ccd,\n",
    "    serial_roe=serial_roe,\n",
    "    serial_traps=serial_traps,\n",
    "    verbosity=1,\n",
    "    vv_test=False\n",
    ")"
   ]
  },
  {
   "cell_type": "code",
   "execution_count": 4,
   "id": "bffb0f7a",
   "metadata": {},
   "outputs": [
    {
     "name": "stdout",
     "output_type": "stream",
     "text": [
      "0\n",
      "[[[[0. 0. 0. 0. 0.]\n",
      "   [0. 0. 0. 0. 0.]\n",
      "   [0. 0. 0. 0. 0.]\n",
      "   [0. 0. 0. 0. 0.]\n",
      "   [0. 0. 0. 0. 0.]]\n",
      "\n",
      "  [[0. 0. 0. 0. 0.]\n",
      "   [0. 0. 0. 0. 0.]\n",
      "   [0. 0. 0. 0. 0.]\n",
      "   [0. 0. 0. 0. 0.]\n",
      "   [0. 0. 0. 0. 0.]]]\n",
      "\n",
      "\n",
      " [[[0. 0. 0. 0. 0.]\n",
      "   [0. 0. 0. 0. 0.]\n",
      "   [0. 0. 0. 0. 0.]\n",
      "   [0. 0. 0. 0. 0.]\n",
      "   [0. 0. 0. 0. 0.]]\n",
      "\n",
      "  [[0. 0. 0. 0. 0.]\n",
      "   [0. 0. 0. 0. 0.]\n",
      "   [0. 0. 0. 0. 0.]\n",
      "   [0. 0. 0. 0. 0.]\n",
      "   [0. 0. 0. 0. 0.]]]]\n",
      "True\n"
     ]
    }
   ],
   "source": [
    "#print(image_A_add.vv_test.results[0].parallel.best_fit_trap_density)\n",
    "print(len(image_A_add.vv_test.results))\n",
    "print(image_A_add.covariance)\n",
    "b=False\n",
    "print(b < 0.1)"
   ]
  },
  {
   "cell_type": "code",
   "execution_count": 5,
   "id": "5e197a4e",
   "metadata": {},
   "outputs": [
    {
     "name": "stdout",
     "output_type": "stream",
     "text": [
      "Parallel V&V test\n",
      "Finding columns containing (only) background\n",
      "Making pre-CTI image\n",
      "Generating model of EPER (bias:  0.0 , trap density:  3.5732993395831434 )\n",
      "Generating sum-of-exponentials model of EPER trail\n",
      "Best-fit coefficients:  [ 0.72645407 21.29902186]\n",
      "Inferred best-fit model (bias:  21.29902185627222 , trap density:  5.683984813029786 )\n",
      "Iter 1: Iter 2: Iter 3: Iter 4: Parallel V&V test\n",
      "Generating model of EPER (bias:  21.29902185627222 , trap density:  3.5732993395831434 )\n",
      "Generating sum-of-exponentials model of EPER trail\n",
      "Best-fit coefficients:  [ 0.66032989 17.73173976]\n",
      "Inferred best-fit model (bias:  17.731739757404906 , trap density:  2.1454393631530273 )\n",
      "2\n",
      "[[[[0. 0. 0. 0. 0.]\n",
      "   [0. 0. 0. 0. 0.]\n",
      "   [0. 0. 0. 0. 0.]\n",
      "   [0. 0. 0. 0. 0.]\n",
      "   [0. 0. 0. 0. 0.]]\n",
      "\n",
      "  [[0. 0. 0. 0. 0.]\n",
      "   [0. 0. 0. 0. 0.]\n",
      "   [0. 0. 0. 0. 0.]\n",
      "   [0. 0. 0. 0. 0.]\n",
      "   [0. 0. 0. 0. 0.]]]\n",
      "\n",
      "\n",
      " [[[0. 0. 0. 0. 0.]\n",
      "   [0. 0. 0. 0. 0.]\n",
      "   [0. 0. 0. 0. 0.]\n",
      "   [0. 0. 0. 0. 0.]\n",
      "   [0. 0. 0. 0. 0.]]\n",
      "\n",
      "  [[0. 0. 0. 0. 0.]\n",
      "   [0. 0. 0. 0. 0.]\n",
      "   [0. 0. 0. 0. 0.]\n",
      "   [0. 0. 0. 0. 0.]\n",
      "   [0. 0. 0. 0. 0.]]]]\n"
     ]
    }
   ],
   "source": [
    "#read_noise=ReadNoise(sigma_readnoise=4.0)\n",
    "image_A_corrected_otf = arctic.remove_cti(image_A_raw,\n",
    "    n_iterations=4,\n",
    "    parallel_ccd=parallel_ccd,\n",
    "    parallel_roe=parallel_roe,\n",
    "    parallel_traps=parallel_traps,\n",
    "    parallel_express=4,\n",
    "    #read_noise=arctic.ReadNoise(sigma_readnoise=4.0),\n",
    "    serial_ccd=serial_ccd,\n",
    "    serial_roe=serial_roe,\n",
    "    serial_traps=serial_traps,\n",
    "    verbosity=1,\n",
    "    remove_read_noise=False,\n",
    "    vv_test=True)"
   ]
  },
  {
   "cell_type": "code",
   "execution_count": 6,
   "id": "1eb77de8",
   "metadata": {},
   "outputs": [
    {
     "name": "stdout",
     "output_type": "stream",
     "text": [
      "5.683984813029786\n",
      "2.1454393631530273\n",
      "2.1454393631530273\n"
     ]
    }
   ],
   "source": [
    "print(image_A_corrected_otf.vv_test.results[0].parallel.best_fit_trap_density)\n",
    "print(image_A_corrected_otf.vv_test.results[1].parallel.best_fit_trap_density)\n",
    "print(image_A_corrected_otf.vv_test.results[-1].parallel.best_fit_trap_density)\n"
   ]
  },
  {
   "cell_type": "code",
   "execution_count": null,
   "id": "68cb31f8",
   "metadata": {},
   "outputs": [],
   "source": []
  },
  {
   "cell_type": "code",
   "execution_count": null,
   "id": "ef759e48",
   "metadata": {},
   "outputs": [],
   "source": []
  },
  {
   "cell_type": "code",
   "execution_count": null,
   "id": "de4644e1",
   "metadata": {},
   "outputs": [],
   "source": []
  },
  {
   "cell_type": "markdown",
   "id": "68054102",
   "metadata": {},
   "source": [
    "## image_A_out.shape\n"
   ]
  }
 ],
 "metadata": {
  "kernelspec": {
   "display_name": "Python 3 (ipykernel)",
   "language": "python",
   "name": "python3"
  },
  "language_info": {
   "codemirror_mode": {
    "name": "ipython",
    "version": 3
   },
   "file_extension": ".py",
   "mimetype": "text/x-python",
   "name": "python",
   "nbconvert_exporter": "python",
   "pygments_lexer": "ipython3",
   "version": "3.9.16"
  }
 },
 "nbformat": 4,
 "nbformat_minor": 5
}
