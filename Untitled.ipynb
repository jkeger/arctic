{
 "cells": [
  {
   "cell_type": "code",
   "execution_count": 1,
   "id": "f79b5c34",
   "metadata": {},
   "outputs": [],
   "source": [
    "import arcticpy as arctic\n",
    "import autoarray as aa\n",
    "import time\n",
    "\n",
    "image_path = \"/Users/rjm/GitHub/testdata/je0o30lzq\"\n",
    "\n",
    "# Load each quadrant of the image  (see pypi.org/project/autoarray)\n",
    "image_A_raw, image_B_raw, image_C_raw, image_D_raw = [\n",
    "    aa.acs.ImageACS.from_fits(\n",
    "        file_path=image_path + \"_raw.fits\",\n",
    "        quadrant_letter=quadrant,\n",
    "        bias_subtract_via_bias_file=True,\n",
    "        bias_subtract_via_prescan=True,\n",
    "    ).native\n",
    "    for quadrant in [\"A\", \"B\", \"C\", \"D\"]\n",
    "]\n",
    "image_A_corrected, image_B_corrected, image_C_corrected, image_D_corrected = [\n",
    "    aa.acs.ImageACS.from_fits(\n",
    "        file_path=image_path + \"_out.fits\",\n",
    "        quadrant_letter=quadrant,\n",
    "        bias_subtract_via_bias_file=True,\n",
    "        bias_subtract_via_prescan=True,\n",
    "    ).native\n",
    "    for quadrant in [\"A\", \"B\", \"C\", \"D\"]\n",
    "]\n",
    "\n",
    "# Automatic CTI model  (see CTI_model_for_HST_ACS() in arcticpy/src/cti.py)\n",
    "date = 2400000.5 + image_A_raw.header.modified_julian_date\n",
    "parallel_roe, parallel_ccd, parallel_traps, serial_roe, serial_ccd, serial_traps = arctic.CTI_model_for_HST_ACS(date)\n",
    "\n",
    "   "
   ]
  },
  {
   "cell_type": "code",
   "execution_count": null,
   "id": "1cfe5a9d",
   "metadata": {},
   "outputs": [],
   "source": [
    "image_A_add = arctic.add_cti(image_A_raw,\n",
    "    parallel_ccd=parallel_ccd,\n",
    "    parallel_roe=parallel_roe,\n",
    "    parallel_traps=parallel_traps,\n",
    "    parallel_express=4,\n",
    "    #read_noise=arctic.ReadNoise(sigma_readnoise=4.0),\n",
    "    serial_ccd=serial_ccd,\n",
    "    serial_roe=serial_roe,\n",
    "    serial_traps=serial_traps,\n",
    "    verbosity=1,\n",
    "    vv_test=True\n",
    ")"
   ]
  },
  {
   "cell_type": "code",
   "execution_count": null,
   "id": "bffb0f7a",
   "metadata": {},
   "outputs": [],
   "source": [
    "print(image_A_add.vv_test.results[0].parallel.best_fit_trap_density\n",
    "     )"
   ]
  },
  {
   "cell_type": "code",
   "execution_count": null,
   "id": "5e197a4e",
   "metadata": {},
   "outputs": [],
   "source": [
    "#read_noise=ReadNoise(sigma_readnoise=4.0)\n",
    "image_A_corrected_otf = arctic.remove_cti(image_A_raw,\n",
    "    n_iterations=3,\n",
    "    parallel_ccd=parallel_ccd,\n",
    "    parallel_roe=parallel_roe,\n",
    "    parallel_traps=parallel_traps,\n",
    "    parallel_express=4,\n",
    "    #read_noise=arctic.ReadNoise(sigma_readnoise=4.0),\n",
    "    serial_ccd=serial_ccd,\n",
    "    serial_roe=serial_roe,\n",
    "    serial_traps=serial_traps,\n",
    "    verbosity=0,\n",
    "    vv_test=True)\n"
   ]
  },
  {
   "cell_type": "code",
   "execution_count": null,
   "id": "1eb77de8",
   "metadata": {},
   "outputs": [],
   "source": [
    "print(image_A_corrected_otf.vv_test.results[0].parallel.best_fit_trap_density)\n",
    "print(image_A_corrected_otf.vv_test.results[1].parallel.best_fit_trap_density)\n",
    "print(image_A_corrected_otf.vv_test.results[-1].parallel.best_fit_trap_density)\n"
   ]
  },
  {
   "cell_type": "code",
   "execution_count": null,
   "id": "68cb31f8",
   "metadata": {},
   "outputs": [],
   "source": [
    "a=np.zeros((3,3))\n",
    "b=bool(2)\n",
    "a,b\n",
    "\n",
    "class ImagePlus(np.ndarray):\n",
    "    def __init__(cls, image, test=None):\n",
    "        super().__init__(cls, image)\n",
    "        cls.test = test\n",
    "\n",
    "class ImagePlus(np.ndarray):\n",
    "    def __new__(\n",
    "        cls, \n",
    "        values: np.ndarray,\n",
    "        test: bool=None,\n",
    "        covariance: np.ndarray=None,\n",
    "        *args,\n",
    "        **kwargs\n",
    "    ):\n",
    "        obj = values.view(cls)\n",
    "        obj.vv_test = VV_test()\n",
    "        if covariance is None:\n",
    "            covariance = np.zeros((5,5))\n",
    "            covariance[2,2]=1.\n",
    "        obj.covariance = covariance\n",
    "        return obj\n",
    "\n",
    "c=ImagePluss(a,b)\n",
    "c,c.test,c.shape,c.covariance,c.covariance.shape\n"
   ]
  },
  {
   "cell_type": "code",
   "execution_count": null,
   "id": "ef759e48",
   "metadata": {},
   "outputs": [],
   "source": [
    "# Set up V&V test\n",
    "vv=arctic.VVTestBench(\n",
    "    parallel_roe=parallel_roe, \n",
    "    parallel_ccd=parallel_ccd, \n",
    "    parallel_traps=parallel_traps, \n",
    "    serial_roe=serial_roe, \n",
    "    serial_ccd=serial_ccd, \n",
    "    serial_traps=serial_traps, \n",
    "    sum_of_exponentials=True,\n",
    "    verbose=True\n",
    ")"
   ]
  },
  {
   "cell_type": "code",
   "execution_count": null,
   "id": "de4644e1",
   "metadata": {},
   "outputs": [],
   "source": [
    "\n",
    "before=vv.test(image_A_raw)\n",
    "after=vv.test(image_A_corrected,\n",
    "          parallel_valid_columns = before.parallel.valid_columns,\n",
    "          parallel_pixels_pre_cti = before.parallel.pixels_pre_cti,\n",
    "          parallel_fit_bias = True, \n",
    "          parallel_model_bias = before.parallel.best_fit_bias)\n",
    "before.parallel.plot()\n",
    "after.parallel.plot()\n"
   ]
  },
  {
   "cell_type": "markdown",
   "id": "68e046f0",
   "metadata": {},
   "source": [
    "## image_A_out.shape\n"
   ]
  }
 ],
 "metadata": {
  "kernelspec": {
   "display_name": "Python 3 (ipykernel)",
   "language": "python",
   "name": "python3"
  },
  "language_info": {
   "codemirror_mode": {
    "name": "ipython",
    "version": 3
   },
   "file_extension": ".py",
   "mimetype": "text/x-python",
   "name": "python",
   "nbconvert_exporter": "python",
   "pygments_lexer": "ipython3",
   "version": "3.9.16"
  }
 },
 "nbformat": 4,
 "nbformat_minor": 5
}
