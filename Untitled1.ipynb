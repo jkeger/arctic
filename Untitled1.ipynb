{
 "cells": [
  {
   "cell_type": "code",
   "execution_count": 1,
   "id": "53630341",
   "metadata": {},
   "outputs": [],
   "source": [
    "import arcticpy as arctic\n",
    "import autoarray as aa\n",
    "import time\n",
    "\n",
    "image_path = \"/Users/rjm/GitHub/testdata/je0o30lzq\"\n",
    "\n",
    "# Load each quadrant of the image  (see pypi.org/project/autoarray)\n",
    "image_A_raw = aa.acs.ImageACS.from_fits(\n",
    "        file_path=image_path + \"_raw.fits\",\n",
    "        quadrant_letter=\"A\",\n",
    "        bias_subtract_via_bias_file=True,\n",
    "        bias_subtract_via_prescan=True,\n",
    "    ).native\n",
    "\n",
    "# Automatic CTI model  (see CTI_model_for_HST_ACS() in arcticpy/src/cti.py)\n",
    "date = 2400000.5 + image_A_raw.header.modified_julian_date\n",
    "parallel_roe, parallel_ccd, parallel_traps, serial_roe, serial_ccd, serial_traps = arctic.CTI_model_for_HST_ACS(date)"
   ]
  },
  {
   "cell_type": "code",
   "execution_count": 4,
   "id": "7dc670ea",
   "metadata": {},
   "outputs": [
    {
     "name": "stdout",
     "output_type": "stream",
     "text": [
      "Parallel V&V test\n",
      "Finding columns containing (only) background\n",
      "Making pre-CTI image\n",
      "Generating model of EPER (bias:  0.0 , trap density:  3.5732993395831434 )\n",
      "Generating sum-of-exponentials model of EPER trail\n",
      "Best-fit coefficients:  [ 0.70140944 21.06880278]\n",
      "Inferred best-fit model (bias:  21.06880278375285 , trap density:  5.4944597954927 )\n",
      "Parallel V&V test\n",
      "Generating model of EPER (bias:  21.06880278375285 , trap density:  3.5732993395831434 )\n",
      "Generating sum-of-exponentials model of EPER trail\n",
      "Best-fit coefficients:  [ 2.09302714 25.47695202]\n",
      "Inferred best-fit model (bias:  25.476952022774984 , trap density:  8.434987952063963 )\n",
      "(2068, 2072)\n",
      "[[[[0. 0. 0. 0. 0.]\n",
      "   [0. 0. 0. 0. 0.]\n",
      "   [0. 0. 1. 0. 0.]\n",
      "   [0. 0. 0. 0. 0.]\n",
      "   [0. 0. 0. 0. 0.]]\n",
      "\n",
      "  [[0. 0. 0. 0. 0.]\n",
      "   [0. 0. 0. 0. 0.]\n",
      "   [0. 0. 1. 0. 0.]\n",
      "   [0. 0. 0. 0. 0.]\n",
      "   [0. 0. 0. 0. 0.]]]\n",
      "\n",
      "\n",
      " [[[0. 0. 0. 0. 0.]\n",
      "   [0. 0. 0. 0. 0.]\n",
      "   [0. 0. 1. 0. 0.]\n",
      "   [0. 0. 0. 0. 0.]\n",
      "   [0. 0. 0. 0. 0.]]\n",
      "\n",
      "  [[0. 0. 0. 0. 0.]\n",
      "   [0. 0. 0. 0. 0.]\n",
      "   [0. 0. 1. 0. 0.]\n",
      "   [0. 0. 0. 0. 0.]\n",
      "   [0. 0. 0. 0. 0.]]]]\n",
      "hw\n"
     ]
    }
   ],
   "source": [
    "image_A_add = arctic.add_cti(image_A_raw,\n",
    "    parallel_ccd=parallel_ccd,\n",
    "    parallel_roe=parallel_roe,\n",
    "    parallel_traps=parallel_traps,\n",
    "    parallel_express=1,\n",
    "    #read_noise=arctic.ReadNoise(sigma_readnoise=4.0),\n",
    "    serial_ccd=serial_ccd,\n",
    "    serial_roe=serial_roe,\n",
    "    serial_traps=serial_traps,\n",
    "    vv_test=True,\n",
    "    verbosity=1)"
   ]
  },
  {
   "cell_type": "code",
   "execution_count": 3,
   "id": "0b361b63",
   "metadata": {},
   "outputs": [
    {
     "name": "stdout",
     "output_type": "stream",
     "text": [
      "[[[[0. 0. 0. 0. 0.]\n",
      "   [0. 0. 0. 0. 0.]\n",
      "   [0. 0. 1. 0. 0.]\n",
      "   [0. 0. 0. 0. 0.]\n",
      "   [0. 0. 0. 0. 0.]]\n",
      "\n",
      "  [[0. 0. 0. 0. 0.]\n",
      "   [0. 0. 0. 0. 0.]\n",
      "   [0. 0. 1. 0. 0.]\n",
      "   [0. 0. 0. 0. 0.]\n",
      "   [0. 0. 0. 0. 0.]]]\n",
      "\n",
      "\n",
      " [[[0. 0. 0. 0. 0.]\n",
      "   [0. 0. 0. 0. 0.]\n",
      "   [0. 0. 1. 0. 0.]\n",
      "   [0. 0. 0. 0. 0.]\n",
      "   [0. 0. 0. 0. 0.]]\n",
      "\n",
      "  [[0. 0. 0. 0. 0.]\n",
      "   [0. 0. 0. 0. 0.]\n",
      "   [0. 0. 1. 0. 0.]\n",
      "   [0. 0. 0. 0. 0.]\n",
      "   [0. 0. 0. 0. 0.]]]]\n"
     ]
    }
   ],
   "source": [
    "print(image_A_add.covariance)"
   ]
  },
  {
   "cell_type": "code",
   "execution_count": null,
   "id": "df0d3484",
   "metadata": {},
   "outputs": [],
   "source": []
  }
 ],
 "metadata": {
  "kernelspec": {
   "display_name": "Python 3 (ipykernel)",
   "language": "python",
   "name": "python3"
  },
  "language_info": {
   "codemirror_mode": {
    "name": "ipython",
    "version": 3
   },
   "file_extension": ".py",
   "mimetype": "text/x-python",
   "name": "python",
   "nbconvert_exporter": "python",
   "pygments_lexer": "ipython3",
   "version": "3.9.16"
  }
 },
 "nbformat": 4,
 "nbformat_minor": 5
}
